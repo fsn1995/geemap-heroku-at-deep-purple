{
 "metadata": {
  "language_info": {
   "codemirror_mode": {
    "name": "ipython",
    "version": 3
   },
   "file_extension": ".py",
   "mimetype": "text/x-python",
   "name": "python",
   "nbconvert_exporter": "python",
   "pygments_lexer": "ipython3",
   "version": "3.8.0-final"
  },
  "orig_nbformat": 2,
  "kernelspec": {
   "name": "python3",
   "display_name": "Python 3.8.0 64-bit ('gee': conda)",
   "metadata": {
    "interpreter": {
     "hash": "ada930dfaf49c70a7ee64ff67ccb5b3fcbf1b37de14f1a925a66f2c79ddc67d5"
    }
   }
  }
 },
 "nbformat": 4,
 "nbformat_minor": 2,
 "cells": [
  {
   "source": [
    "# 02 GEE Map Greenland_a\n",
    "This is a simple exerciese of mapping Greenland with Google Earth Engine."
   ],
   "cell_type": "markdown",
   "metadata": {}
  },
  {
   "cell_type": "code",
   "execution_count": 7,
   "metadata": {},
   "outputs": [],
   "source": [
    "# import pandas as pd\n",
    "import ee\n",
    "# if in colab:\n",
    "# !pip install geemap\n",
    "import geemap\n",
    "import geemap.colormaps as cm\n",
    "# import geemap.eefolium as geemap\n",
    "# ee.Initialize()"
   ]
  },
  {
   "source": [
    "## Greenland: Arctic DEM"
   ],
   "cell_type": "markdown",
   "metadata": {}
  },
  {
   "cell_type": "code",
   "execution_count": 8,
   "metadata": {},
   "outputs": [
    {
     "output_type": "display_data",
     "data": {
      "text/plain": "Map(center=[40, -100], controls=(WidgetControl(options=['position', 'transparent_bg'], widget=HBox(children=(T…",
      "application/vnd.jupyter.widget-view+json": {
       "version_major": 2,
       "version_minor": 0,
       "model_id": "cd150f625d4e448fb2408bfd25e51a74"
      }
     },
     "metadata": {}
    }
   ],
   "source": [
    "Map = geemap.Map()\n",
    "Map.add_basemap('HYBRID')\n",
    "Map # comment this line if in colab"
   ]
  },
  {
   "cell_type": "code",
   "execution_count": 9,
   "metadata": {},
   "outputs": [],
   "source": [
    "\n",
    "\n",
    "greenlandmask = ee.Image('OSU/GIMP/2000_ICE_OCEAN_MASK') \\\n",
    "                   .select('ice_mask').eq(1); #'ice_mask', 'ocean_mask'\n",
    "arcticDEM = ee.Image('UMN/PGC/ArcticDEM/V3/2m_mosaic')\n",
    "\n",
    "arcticDEMgreenland = arcticDEM.updateMask(greenlandmask)\n",
    "\n",
    "palette = cm.get_palette('terrain', n_class=10)\n",
    "\n",
    "visPara = {'min': 0,  'max': 2500.0, 'palette': 'white'}\n",
    "# visPara = {'min': 0,  'max': 2500.0, 'palette': palette}\n",
    "Map.addLayer(arcticDEMgreenland, visPara, 'Arctic DEM')\n",
    "Map.setCenter(-41.0, 74.0, 3)\n",
    "#add colorbar\n",
    "# colors = visPara['palette']\n",
    "# vmin = visPara['min']\n",
    "# vmax = visPara['max']\n",
    "\n",
    "# Map.add_colorbar(visPara, label=\"Elevation (m a.s.l)\", orientation=\"vertical\", layer_name=\"Arctic DEM\")\n",
    "# Map.add_colorbar_branca(colors=colors, vmin=vmin, vmax=vmax, caption=\"m a.s.l\")\n"
   ]
  },
  {
   "source": [
    "## Greenland: ArcticDEM contourlines"
   ],
   "cell_type": "markdown",
   "metadata": {}
  },
  {
   "cell_type": "code",
   "execution_count": 10,
   "metadata": {},
   "outputs": [],
   "source": [
    "\n",
    "\n",
    "palette = cm.get_palette('terrain', n_class=12)\n",
    "visPara = {'min': 0,  'max': 3000, 'palette': palette}\n",
    "\n",
    "lines = ee.List.sequence(0, 3000, 250)\n",
    "\n",
    "def func_contourline(line):\n",
    "  mycontour = arcticDEMgreenland \\\n",
    "    .convolve(ee.Kernel.gaussian(5, 3)) \\\n",
    "    .subtract(ee.Image.constant(line)).zeroCrossing() \\\n",
    "    .multiply(ee.Image.constant(line)).toFloat()\n",
    "\n",
    "  return mycontour.mask(mycontour)\n",
    "\n",
    "contourlines = lines.map(func_contourline)\n",
    "\n",
    "contourlines = ee.ImageCollection(contourlines).mosaic()\n",
    "Map.addLayer(contourlines, visPara, 'contours')\n",
    "Map.add_colorbar(visPara, label=\"Elevation (m a.s.l)\", discrete=True, orientation=\"vertical\", layer_name=\"countours\")"
   ]
  },
  {
   "cell_type": "code",
   "execution_count": null,
   "metadata": {},
   "outputs": [],
   "source": []
  }
 ]
}