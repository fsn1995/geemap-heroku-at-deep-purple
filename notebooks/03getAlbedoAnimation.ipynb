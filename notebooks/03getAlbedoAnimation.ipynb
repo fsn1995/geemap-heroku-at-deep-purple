{
 "metadata": {
  "language_info": {
   "codemirror_mode": {
    "name": "ipython",
    "version": 3
   },
   "file_extension": ".py",
   "mimetype": "text/x-python",
   "name": "python",
   "nbconvert_exporter": "python",
   "pygments_lexer": "ipython3",
   "version": "3.8.0-final"
  },
  "orig_nbformat": 2,
  "kernelspec": {
   "name": "python380jvsc74a57bd0ada930dfaf49c70a7ee64ff67ccb5b3fcbf1b37de14f1a925a66f2c79ddc67d5",
   "display_name": "Python 3.8.0 64-bit ('gee': conda)"
  }
 },
 "nbformat": 4,
 "nbformat_minor": 2,
 "cells": [
  {
   "source": [
    "# Obtain the albedo at SIGMA-A and SIGMA-B\n",
    "\n",
    "Shunan Feng"
   ],
   "cell_type": "markdown",
   "metadata": {}
  },
  {
   "cell_type": "code",
   "execution_count": 36,
   "metadata": {},
   "outputs": [],
   "source": [
    "import geemap\n",
    "import ee\n",
    "import pandas as pd\n",
    "# import altair as alt\n",
    "import geemap.colormaps as cm\n",
    "# import numpy as np\n",
    "# import os"
   ]
  },
  {
   "source": [
    "# SIGMA-A\n",
    "<img src=\"http://globalcryospherewatch.org/cryonet/questionnaire/files/site_map.62.png\" alt=\"Matlab\" width=\"300\" height=\"300\"/>\n",
    "\n",
    "# SIGMA-B\n",
    "<img src=\"http://globalcryospherewatch.org/cryonet/questionnaire/files/site_map.61.png\" alt=\"Matlab\" width=\"300\" height=\"300\"/>\n"
   ],
   "cell_type": "markdown",
   "metadata": {}
  },
  {
   "cell_type": "code",
   "execution_count": 37,
   "metadata": {},
   "outputs": [
    {
     "output_type": "display_data",
     "data": {
      "text/plain": "Map(center=[40, -100], controls=(WidgetControl(options=['position', 'transparent_bg'], widget=HBox(children=(T…",
      "application/vnd.jupyter.widget-view+json": {
       "version_major": 2,
       "version_minor": 0,
       "model_id": "6ee4c9f7d3e243de9581ce83712ac131"
      }
     },
     "metadata": {}
    }
   ],
   "source": [
    "Map = geemap.Map(basemap='HYBRID')\n",
    "Map"
   ]
  },
  {
   "source": [
    "## MODIS"
   ],
   "cell_type": "markdown",
   "metadata": {}
  },
  {
   "source": [
    "# Animation"
   ],
   "cell_type": "markdown",
   "metadata": {}
  },
  {
   "cell_type": "code",
   "execution_count": 62,
   "metadata": {},
   "outputs": [],
   "source": [
    "roi = ee.Geometry.Polygon(\n",
    "        [[-70.91269278237388, 78.10503647733918],\n",
    "          [-70.91269278237388, 77.41819685694047],\n",
    "          [-65.99081778237388, 77.41819685694047],\n",
    "          [-65.99081778237388, 78.10503647733918]])\n",
    "aoi = ee.Geometry.Point( -67.6283,  78.0517)\n",
    "Map.addLayer(aoi, {}, 'SIGMA_A')\n",
    "Map.centerObject(aoi, 8)    \n",
    "aoi = ee.Geometry.Point( -69.0619,  77.5183)\n",
    "Map.addLayer(aoi, {}, 'SIGMA_B')      "
   ]
  },
  {
   "cell_type": "code",
   "execution_count": 63,
   "metadata": {},
   "outputs": [],
   "source": [
    "year_start = 2001 #  MODIS 2000-02-18T00:00:00 - Present\n",
    "year_end = 2020\n",
    "month_start = 1\n",
    "month_end = 12\n",
    "\n",
    "date_start = ee.Date.fromYMD(year_start, month_start, 1)\n",
    "date_end = ee.Date.fromYMD(year_end, month_end, 31)\n",
    "years = ee.List.sequence(year_start, year_end) # time range of years\n",
    "months = ee.List.sequence(month_start, month_end)"
   ]
  },
  {
   "cell_type": "code",
   "execution_count": 64,
   "metadata": {},
   "outputs": [],
   "source": [
    "# /*\n",
    "# Albedo_BSA_vis Black-sky albedo for visible brodband\n",
    "# Albedo_BSA_nir Black-sky albedo for NIR broadband\n",
    "# Albedo_BSA_shortwave Black-sky albedo for shortwave broadband\n",
    "# replace BSA with WSA for white scky albedo\n",
    "# https://developers.google.com/earth-engine/datasets/catalog/MODIS_006_MCD43A3\n",
    "# */\n",
    "colFilter = ee.Filter.And(\n",
    "    # ee.Filter.bounds(aoi),\n",
    "    # ee.Filter.intersects('.geo', aoi),\n",
    "    ee.Filter.geometry(roi),\n",
    "    ee.Filter.date(date_start, date_end)\n",
    ")\n",
    "\n",
    "# MOD10A1.006 Terra Snow Cover Daily Global 500m\n",
    "dataset = ee.ImageCollection('MODIS/006/MOD10A1').filter(colFilter).select('Snow_Albedo_Daily_Tile')\n",
    "\n",
    "# dataset = ee.ImageCollection('MODIS/006/MOD10A1') \\\n",
    "#             .select('Snow_Albedo_Daily_Tile') \\\n",
    "#             .filterDate(date_start, date_end)\n",
    "\n",
    "def funcY(y):\n",
    "    def funcM(m):\n",
    "        vi = dataset.filter(ee.Filter.calendarRange(y, y, 'year')) \\\n",
    "                    .filter(ee.Filter.calendarRange(m, m, 'month')) \\\n",
    "                    .median().clip(roi).divide(100) \n",
    "        return vi.set('year', y) \\\n",
    "                 .set('month', m) \\\n",
    "                 .set('system:time_start', ee.Date.fromYMD(y, m, 1).millis())\n",
    "    return months.map(funcM)\n",
    "\n",
    "albedoMonthly = ee.ImageCollection.fromImages(years.map(funcY).flatten())"
   ]
  },
  {
   "cell_type": "code",
   "execution_count": 65,
   "metadata": {},
   "outputs": [],
   "source": [
    "dates = albedoMonthly.reduceColumns(ee.Reducer.toList(), [\"system:time_start\"]).get('list')\n",
    "dates = pd.to_datetime(dates.getInfo(), unit='ms')\n",
    "dates = pd.DataFrame(dates,columns =['time'])\n",
    "dates = dates.time.dt.strftime('%Y-%m-%d')"
   ]
  },
  {
   "cell_type": "code",
   "execution_count": 66,
   "metadata": {},
   "outputs": [],
   "source": [
    "palette = cm.get_palette('viridis', n_class=10)\n",
    "visParams = {'min': 0,  'max': 1, 'palette': palette}\n",
    "Map.add_time_slider(albedoMonthly, visParams, labels=dates.to_list() , time_interval=1)"
   ]
  },
  {
   "cell_type": "code",
   "execution_count": 67,
   "metadata": {},
   "outputs": [],
   "source": [
    "# Multisat"
   ]
  },
  {
   "cell_type": "code",
   "execution_count": 68,
   "metadata": {},
   "outputs": [],
   "source": [
    "\n",
    "\n",
    "# # aoi = ee.Geometry.Point([dfsYear.lon[i], dfsYear.lat[i]]).buffer(300)\n",
    "# # aoi = ee.Geometry.Point( -67.6283,  78.0517)\n",
    "# # Map.addLayer(aoi, {}, 'SIGMA_A')\n",
    "# # aoi = ee.FeatureCollection([\n",
    "# #     ee.Feature(ee.Geometry.Point(\n",
    "# #         [\n",
    "# #             dfsYear.lon[i], dfsYear.lat[i]\n",
    "# #         ]\n",
    "# #     ), {'label': dfsYear.Year[i]})\n",
    "# # ])\n",
    "# # date_start = str(dfsYear.Year[i]) + '-' + str(1) + '-' + str(1) \n",
    "# # date_end = str(dfsYear.Year[i]) + '-' + str(12) + '-' + str(31) \n",
    "# # print(date_start)\n",
    "# # create filter for image collection\n",
    "\n",
    "# colFilter = ee.Filter.And(\n",
    "#     # ee.Filter.bounds(aoi),\n",
    "#     # ee.Filter.intersects('.geo', aoi),\n",
    "#     ee.Filter.geometry(roi),\n",
    "#     # ee.Filter.date(date_start, date_end),\n",
    "#     # ee.Filter.calendarRange(5, 9, 'month'),\n",
    "#     ee.Filter.lt('CLOUD_COVER', 50),\n",
    "#     ee.Filter.lte('GEOMETRIC_RMSE_MODEL', 30),\n",
    "#     # ee.Filter.gt('SUN_ELEVATION', 5),\n",
    "#     ee.Filter.Or(\n",
    "#         ee.Filter.eq('IMAGE_QUALITY', 9),\n",
    "#         ee.Filter.eq('IMAGE_QUALITY_OLI', 9)\n",
    "#     )\n",
    "# )\n",
    "\n",
    "# s2colFilter =  ee.Filter.And(\n",
    "#     # ee.Filter.bounds(aoi),\n",
    "#     # ee.Filter.intersects('.geo', aoi),\n",
    "#     ee.Filter.geometry(roi),\n",
    "#     # ee.Filter.date(date_start, date_end),\n",
    "#     # ee.Filter.calendarRange(5, 9, 'month'),\n",
    "#     ee.Filter.lt('CLOUDY_PIXEL_PERCENTAGE', 50)\n",
    "# )\n",
    "\n",
    "# # oliCol = ee.ImageCollection(\"LANDSAT/LC08/C01/T1_TOA\")\n",
    "# oliCol = ee.ImageCollection('LANDSAT/LC08/C01/T1_SR') \\\n",
    "#             .filter(colFilter) \\\n",
    "#             .map(prepOli) \\\n",
    "#             .select(['Blue', 'Green', 'Red', 'NIR', 'SWIR1', 'SWIR2'])\n",
    "# # etmCol = ee.ImageCollection(\"LANDSAT/LE07/C01/T1_TOA\")\n",
    "# etmCol = ee.ImageCollection('LANDSAT/LE07/C01/T1_SR') \\\n",
    "#             .filter(colFilter) \\\n",
    "#             .map(prepEtm) \\\n",
    "#             .select(['Blue', 'Green', 'Red', 'NIR', 'SWIR1', 'SWIR2'])\n",
    "# tmCol = ee.ImageCollection('LANDSAT/LT05/C01/T1_SR') \\\n",
    "#             .filter(colFilter) \\\n",
    "#             .map(prepEtm) \\\n",
    "#             .select(['Blue', 'Green', 'Red', 'NIR', 'SWIR1', 'SWIR2'])\n",
    "# s2Col = ee.ImageCollection('COPERNICUS/S2_SR') \\\n",
    "#             .filter(s2colFilter) \\\n",
    "#             .map(prepS2) \\\n",
    "#             .select(['Blue', 'Green', 'Red', 'NIR', 'SWIR1', 'SWIR2'])\n",
    "# # landsatCol = etmCol.merge(tmCol)\n",
    "# landsatCol = oliCol.merge(etmCol).merge(tmCol)\n",
    "# multiSat = landsatCol.merge(s2Col).sort('system:time_start')\n",
    "\n",
    "# # if multiSat.size().getInfo()==0:\n",
    "# #     continue\n",
    "# def addAlbedo(image):\n",
    "#     # imdate = image.get('system:time_start')\n",
    "#     albedo = image.expression(\n",
    "#         '0.356 * b2/10000 + 0.13 * b4/10000 + 0.373 * b5/10000 + 0.085 * b6/10000 + 0.072 * b7/10000 - 0.0018',\n",
    "#         {\n",
    "#             'b2': image.select('Blue'),\n",
    "#             # 'b3': image.select('Red'),\n",
    "#             'b4': image.select('Red'),\n",
    "#             'b5': image.select('NIR'),\n",
    "#             'b6': image.select('SWIR1'),\n",
    "#             'b7': image.select('SWIR2'),\n",
    "#             # b8: image.select('B8'),\n",
    "#             # b11: image.select('B11'),\n",
    "#             # b12: image.select('B12')\n",
    "#         }\n",
    "#     ).rename('albedo')\n",
    "#     return image.addBands(albedo).copyProperties(image, ['system:time_start'])\n",
    "# multiSatAlbedo = multiSat.map(addAlbedo)"
   ]
  },
  {
   "cell_type": "code",
   "execution_count": 69,
   "metadata": {},
   "outputs": [],
   "source": [
    "# dates = multiSatAlbedo.reduceColumns(ee.Reducer.toList(), [\"system:time_start\"]).get('list')\n",
    "# dates = pd.to_datetime(dates.getInfo(), unit='ms')\n",
    "# dates = pd.DataFrame(dates,columns =['time'])\n",
    "# dates = dates.time.dt.strftime('%Y-%m-%d')\n",
    "\n",
    "\n",
    "# palette = cm.get_palette('viridis', n_class=10)\n",
    "# visParams = {'min': 0,  'max': 1, 'palette': palette}\n",
    "# Map.add_time_slider(multiSatAlbedo.select('albedo'), visParams, labels=dates.to_list() , time_interval=1)"
   ]
  },
  {
   "cell_type": "code",
   "execution_count": 70,
   "metadata": {},
   "outputs": [],
   "source": [
    "# Map.add_time_slider(multiSatAlbedo.select('albedo'), visParams, labels=dates.to_list() , time_interval=1)"
   ]
  },
  {
   "cell_type": "code",
   "execution_count": 73,
   "metadata": {},
   "outputs": [],
   "source": [
    "Map.add_colorbar(visParams, label=\"albedo\", orientation=\"horizontal\", layer_name=\"albedo\")"
   ]
  },
  {
   "cell_type": "code",
   "execution_count": null,
   "metadata": {},
   "outputs": [],
   "source": []
  }
 ]
}