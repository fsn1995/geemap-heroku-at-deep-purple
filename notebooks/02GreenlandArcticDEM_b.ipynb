{
 "metadata": {
  "language_info": {
   "codemirror_mode": {
    "name": "ipython",
    "version": 3
   },
   "file_extension": ".py",
   "mimetype": "text/x-python",
   "name": "python",
   "nbconvert_exporter": "python",
   "pygments_lexer": "ipython3",
   "version": "3.8.0-final"
  },
  "orig_nbformat": 2,
  "kernelspec": {
   "name": "python3",
   "display_name": "Python 3.8.0 64-bit ('gee': conda)",
   "metadata": {
    "interpreter": {
     "hash": "ada930dfaf49c70a7ee64ff67ccb5b3fcbf1b37de14f1a925a66f2c79ddc67d5"
    }
   }
  }
 },
 "nbformat": 4,
 "nbformat_minor": 2,
 "cells": [
  {
   "source": [
    "# 02 GEE Map Greenland_b\n",
    "This is a simple exerciese of mapping Greenland with Google Earth Engine."
   ],
   "cell_type": "markdown",
   "metadata": {}
  },
  {
   "cell_type": "code",
   "execution_count": 18,
   "metadata": {},
   "outputs": [],
   "source": [
    "# import pandas as pd\n",
    "import ee\n",
    "# if in colab:\n",
    "# !pip install geemap\n",
    "import geemap\n",
    "import geemap.colormaps as cm\n",
    "# import geemap.eefolium as geemap\n",
    "# ee.Initialize()"
   ]
  },
  {
   "source": [
    "## Greenland: Arctic DEM"
   ],
   "cell_type": "markdown",
   "metadata": {}
  },
  {
   "cell_type": "code",
   "execution_count": 19,
   "metadata": {},
   "outputs": [
    {
     "output_type": "display_data",
     "data": {
      "text/plain": "Map(center=[40, -100], controls=(WidgetControl(options=['position', 'transparent_bg'], widget=HBox(children=(T…",
      "application/vnd.jupyter.widget-view+json": {
       "version_major": 2,
       "version_minor": 0,
       "model_id": "d94a447a78e14594935eceee5fc9caaf"
      }
     },
     "metadata": {}
    }
   ],
   "source": [
    "Map = geemap.Map()\n",
    "Map # comment this line if in colab"
   ]
  },
  {
   "source": [
    "## Greenland: ArcticDEM terrain palette"
   ],
   "cell_type": "markdown",
   "metadata": {}
  },
  {
   "cell_type": "code",
   "execution_count": 20,
   "metadata": {},
   "outputs": [],
   "source": [
    "greenlandmask = ee.Image('OSU/GIMP/2000_ICE_OCEAN_MASK') \\\n",
    "                   .select('ice_mask').eq(1); #'ice_mask', 'ocean_mask'\n",
    "arcticDEM = ee.Image('UMN/PGC/ArcticDEM/V3/2m_mosaic')\n",
    "\n",
    "arcticDEMgreenland = arcticDEM.updateMask(greenlandmask)\n",
    "\n",
    "palette = cm.get_palette('terrain', n_class=12)\n",
    "\n",
    "# visPara = {'min': 0,  'max': 2500.0, 'palette': ['0d13d8', '60e1ff', 'ffffff']}\n",
    "visPara = {'min': 0,  'max': 3000.0, 'palette': palette}\n",
    "\n",
    "Map.addLayer(arcticDEMgreenland, visPara, 'Arctic DEM terrain')\n",
    "Map.setCenter(-41.0, 74.0, 3)\n",
    "# Map.add_colorbar(visPara, label=\"Elevation (m)\", discrete=False, orientation=\"vertical\", layer_name=\"Arctic DEM terrain\")"
   ]
  },
  {
   "source": [
    "## Greenland: ArcticDEM contour\n",
    "ref: https://twitter.com/jstnbraaten/status/1372958857266229252"
   ],
   "cell_type": "markdown",
   "metadata": {}
  },
  {
   "cell_type": "code",
   "execution_count": 21,
   "metadata": {},
   "outputs": [],
   "source": [
    "greenlandmask = ee.Image('OSU/GIMP/2000_ICE_OCEAN_MASK') \\\n",
    "                   .select('ocean_mask').eq(0); #'ice_mask', 'ocean_mask'\n",
    "arcticDEM = ee.Image('UMN/PGC/ArcticDEM/V3/2m_mosaic')\n",
    "\n",
    "arcticDEMgreenland = arcticDEM.updateMask(greenlandmask)\n",
    "Map.setCenter(-41.0, 74.0, 3)\n",
    "\n",
    "mask = arcticDEMgreenland.gt(0)\n",
    "\n",
    "elevZones = arcticDEMgreenland.expression(\n",
    "  \"(b('elevation') > 2500) ? 10\" + \\\n",
    "  \": (b('elevation') > 2250) ? 9\" + \\\n",
    "  \": (b('elevation') > 2000) ? 8\" + \\\n",
    "  \": (b('elevation') > 1750) ? 7\" + \\\n",
    "  \": (b('elevation') > 1500) ? 6\" + \\\n",
    "  \": (b('elevation') > 1250) ? 5\" + \\\n",
    "  \": (b('elevation') > 1000) ? 4\" + \\\n",
    "  \": (b('elevation') > 750) ? 3\" + \\\n",
    "  \": (b('elevation') > 500) ? 2\" + \\\n",
    "  \": (b('elevation') > 250) ? 1\" + \\\n",
    "  \": 0\"\n",
    ").mask(mask)\n",
    "\n",
    "palette = cm.get_palette('terrain', n_class=12)\n",
    "visPara = {'min': 0,  'max': 3000.0, 'palette': palette}\n",
    "\n",
    "\n",
    "# Make a height layer from the binned elevation.\n",
    "height = elevZones.multiply(175)\n",
    "\n",
    "# Cast shadows based on elevation bin height.\n",
    "shadow = (ee.Terrain.hillShadow(\n",
    "  height.updateMask(mask).unmask(0), 310, 70, 30, False).Not().selfMask()) \\\n",
    "  .visualize(**{'min': 1, 'max': 1, 'palette': '000', 'opacity': 0.9})\n",
    "\n",
    "# Add a palette to the elevation bins.\n",
    "elevZonesVis = elevZones.visualize(**{'min': 0, 'max': 10, 'palette': palette})\n",
    "bg = ee.Image(0).visualize(**{'palette': 'FFF'})\n",
    "paper = ee.Terrain.hillshade(\n",
    "  ee.Image.random(0).reproject('EPSG:4326', None, 500).multiply(1000)) \\\n",
    "  .visualize(**{'palette': ['A0A0A0', 'fff'], 'opacity': 0.07})\n",
    "\n",
    "\n",
    "composite = bg.blend(elevZonesVis).blend(shadow).blend(paper)\n",
    "\n",
    "Map.setCenter(-41.0, 74.0, 3)\n",
    "Map.addLayer(composite, name='ArcticDEM contour')\n",
    "Map.add_colorbar(visPara, label=\"Elevation (m)\", discrete=True, orientation=\"vertical\", layer_name=\"ArcticDEM contour\")"
   ]
  }
 ]
}